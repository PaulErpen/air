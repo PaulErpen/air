{
 "cells": [
  {
   "attachments": {},
   "cell_type": "markdown",
   "metadata": {},
   "source": [
    "# Evaluation"
   ]
  },
  {
   "cell_type": "code",
   "execution_count": null,
   "metadata": {},
   "outputs": [],
   "source": [
    "import torch\n",
    "from ..config.config import Config\n",
    "from ..core_metrics.core_metrics import calculate_metrics_plain, load_qrels\n",
    "from ..model_tk.model_tk import TK\n",
    "from ..model_knrm.model_knrm import KNRM\n",
    "from ..data_loading import IrTripleDatasetReader, IrLabeledTupleDatasetReader\n",
    "from allennlp.modules.text_field_embedders import BasicTextFieldEmbedder, TextFieldEmbedder\n",
    "from allennlp.modules.token_embedders import Embedding\n",
    "from allennlp.data.vocabulary import Vocabulary\n",
    "import torch\n",
    "import torch.nn\n",
    "from allennlp.common import Params, Tqdm\n",
    "from allennlp.common.util import prepare_environment\n",
    "from allennlp.data.dataloader import PyTorchDataLoader\n",
    "import os"
   ]
  },
  {
   "cell_type": "code",
   "execution_count": null,
   "metadata": {},
   "outputs": [],
   "source": [
    "test_data_sets = [\n",
    "    (\"ms marco\", \"../data/Part-2/msmarco_tuples.test.tsv\", \"msmarco_qrels.txt\"),\n",
    "    (\"fira 22\", \"../data/Part-2/fira-22.tuples.tsv\", \"fira-22.baseline-qrels.tsv\")\n",
    "]\n",
    "\n",
    "vocab = Vocabulary.from_files(\"./data/Part-2/allen_vocab_lower_10\")\n",
    "tokens_embedder = Embedding(vocab=vocab,\n",
    "                            pretrained_file=config.pre_trained_embedding,\n",
    "                            embedding_dim=300,\n",
    "                            trainable=True,\n",
    "                            padding_index=0)\n",
    "word_embedder = BasicTextFieldEmbedder({\"tokens\": tokens_embedder})\n",
    "\n",
    "\n",
    "\n",
    "models = [\n",
    "    (\"knrm\", )\n",
    "]\n",
    "\n",
    "for data_set_name, path_data, path_qrels in test_data_sets:\n",
    "\n",
    "    if not os.path.exists(path_data):\n",
    "        raise Exception(f\"Path \\\"{path_data}\\\" does not exist!\")\n",
    "    if not os.path.exists(path_qrels):\n",
    "        raise Exception(f\"Path \\\"{path_qrels}\\\" does not exist!\")\n",
    "\n",
    "    metrics = []\n",
    "\n",
    "    _tuple_reader = IrLabeledTupleDatasetReader(\n",
    "        lazy=True, max_doc_length=180, max_query_length=30)\n",
    "    _tuple_reader = _tuple_reader.read()\n",
    "    _tuple_reader.index_with(vocab)\n",
    "    loader = PyTorchDataLoader(_tuple_reader, batch_size=128)\n",
    "\n",
    "    for batch in Tqdm.tqdm(loader):\n",
    "        # todo test loop\n",
    "        # todo evaluation\n",
    "        pass\n"
   ]
  }
 ],
 "metadata": {
  "language_info": {
   "name": "python"
  },
  "orig_nbformat": 4
 },
 "nbformat": 4,
 "nbformat_minor": 2
}
